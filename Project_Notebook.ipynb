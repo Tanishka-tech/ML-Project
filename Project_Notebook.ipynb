{
 "cells": [
  {
   "cell_type": "markdown",
   "id": "b12895f5-6f03-4f62-8524-4c0a4a394ea7",
   "metadata": {},
   "source": [
    "# Machine Learning Project"
   ]
  },
  {
   "cell_type": "markdown",
   "id": "8d086e36-b690-44ea-b066-1dc9afa90a96",
   "metadata": {},
   "source": [
    "# Predicting Residual Strength of FRP Composites Under Fatigue"
   ]
  },
  {
   "cell_type": "code",
   "execution_count": 76,
   "id": "21fac180-d333-445f-a675-33069e0cc99c",
   "metadata": {},
   "outputs": [],
   "source": [
    "import pandas as pd\n",
    "import numpy as np"
   ]
  },
  {
   "cell_type": "markdown",
   "id": "3a6e00b1-16a4-4345-bcc1-d4f7dff9f79f",
   "metadata": {},
   "source": [
    "## Load Data"
   ]
  },
  {
   "cell_type": "code",
   "execution_count": 31,
   "id": "755c6748-e70d-4835-bdd0-81552f2dea1a",
   "metadata": {},
   "outputs": [
    {
     "data": {
      "text/html": [
       "<div>\n",
       "<style scoped>\n",
       "    .dataframe tbody tr th:only-of-type {\n",
       "        vertical-align: middle;\n",
       "    }\n",
       "\n",
       "    .dataframe tbody tr th {\n",
       "        vertical-align: top;\n",
       "    }\n",
       "\n",
       "    .dataframe thead th {\n",
       "        text-align: right;\n",
       "    }\n",
       "</style>\n",
       "<table border=\"1\" class=\"dataframe\">\n",
       "  <thead>\n",
       "    <tr style=\"text-align: right;\">\n",
       "      <th></th>\n",
       "      <th>Material</th>\n",
       "      <th>Nature</th>\n",
       "      <th>Stacking</th>\n",
       "      <th>UTS</th>\n",
       "      <th>Stress_amplitude</th>\n",
       "      <th>Stress_ratio</th>\n",
       "      <th>Frequency</th>\n",
       "      <th>Number_of_plies</th>\n",
       "      <th>Fatigue_cycles</th>\n",
       "      <th>Normalized_fatigue_life</th>\n",
       "      <th>Target</th>\n",
       "    </tr>\n",
       "  </thead>\n",
       "  <tbody>\n",
       "    <tr>\n",
       "      <th>0</th>\n",
       "      <td>1</td>\n",
       "      <td>1</td>\n",
       "      <td>0</td>\n",
       "      <td>330.0</td>\n",
       "      <td>181.5</td>\n",
       "      <td>0.5</td>\n",
       "      <td>3</td>\n",
       "      <td>4</td>\n",
       "      <td>19748</td>\n",
       "      <td>1.00</td>\n",
       "      <td>0.0</td>\n",
       "    </tr>\n",
       "    <tr>\n",
       "      <th>1</th>\n",
       "      <td>1</td>\n",
       "      <td>1</td>\n",
       "      <td>0</td>\n",
       "      <td>330.0</td>\n",
       "      <td>214.5</td>\n",
       "      <td>0.5</td>\n",
       "      <td>3</td>\n",
       "      <td>4</td>\n",
       "      <td>8509</td>\n",
       "      <td>1.00</td>\n",
       "      <td>0.0</td>\n",
       "    </tr>\n",
       "    <tr>\n",
       "      <th>2</th>\n",
       "      <td>1</td>\n",
       "      <td>1</td>\n",
       "      <td>0</td>\n",
       "      <td>330.0</td>\n",
       "      <td>247.5</td>\n",
       "      <td>0.5</td>\n",
       "      <td>3</td>\n",
       "      <td>4</td>\n",
       "      <td>4252</td>\n",
       "      <td>1.00</td>\n",
       "      <td>0.0</td>\n",
       "    </tr>\n",
       "    <tr>\n",
       "      <th>3</th>\n",
       "      <td>0</td>\n",
       "      <td>0</td>\n",
       "      <td>1</td>\n",
       "      <td>560.0</td>\n",
       "      <td>392.0</td>\n",
       "      <td>0.5</td>\n",
       "      <td>10</td>\n",
       "      <td>8</td>\n",
       "      <td>161058</td>\n",
       "      <td>1.00</td>\n",
       "      <td>0.0</td>\n",
       "    </tr>\n",
       "    <tr>\n",
       "      <th>4</th>\n",
       "      <td>0</td>\n",
       "      <td>0</td>\n",
       "      <td>1</td>\n",
       "      <td>560.0</td>\n",
       "      <td>448.0</td>\n",
       "      <td>0.5</td>\n",
       "      <td>10</td>\n",
       "      <td>8</td>\n",
       "      <td>94556</td>\n",
       "      <td>1.00</td>\n",
       "      <td>0.0</td>\n",
       "    </tr>\n",
       "    <tr>\n",
       "      <th>...</th>\n",
       "      <td>...</td>\n",
       "      <td>...</td>\n",
       "      <td>...</td>\n",
       "      <td>...</td>\n",
       "      <td>...</td>\n",
       "      <td>...</td>\n",
       "      <td>...</td>\n",
       "      <td>...</td>\n",
       "      <td>...</td>\n",
       "      <td>...</td>\n",
       "      <td>...</td>\n",
       "    </tr>\n",
       "    <tr>\n",
       "      <th>83</th>\n",
       "      <td>0</td>\n",
       "      <td>0</td>\n",
       "      <td>1</td>\n",
       "      <td>560.0</td>\n",
       "      <td>448.0</td>\n",
       "      <td>0.5</td>\n",
       "      <td>10</td>\n",
       "      <td>8</td>\n",
       "      <td>15000</td>\n",
       "      <td>0.16</td>\n",
       "      <td>528.0</td>\n",
       "    </tr>\n",
       "    <tr>\n",
       "      <th>84</th>\n",
       "      <td>0</td>\n",
       "      <td>0</td>\n",
       "      <td>1</td>\n",
       "      <td>560.0</td>\n",
       "      <td>504.0</td>\n",
       "      <td>0.5</td>\n",
       "      <td>10</td>\n",
       "      <td>8</td>\n",
       "      <td>10000</td>\n",
       "      <td>0.29</td>\n",
       "      <td>533.0</td>\n",
       "    </tr>\n",
       "    <tr>\n",
       "      <th>85</th>\n",
       "      <td>0</td>\n",
       "      <td>0</td>\n",
       "      <td>1</td>\n",
       "      <td>560.0</td>\n",
       "      <td>504.0</td>\n",
       "      <td>0.5</td>\n",
       "      <td>10</td>\n",
       "      <td>8</td>\n",
       "      <td>5000</td>\n",
       "      <td>0.14</td>\n",
       "      <td>542.0</td>\n",
       "    </tr>\n",
       "    <tr>\n",
       "      <th>86</th>\n",
       "      <td>0</td>\n",
       "      <td>2</td>\n",
       "      <td>1</td>\n",
       "      <td>734.0</td>\n",
       "      <td>500.0</td>\n",
       "      <td>0.0</td>\n",
       "      <td>5</td>\n",
       "      <td>8</td>\n",
       "      <td>1000000</td>\n",
       "      <td>1.00</td>\n",
       "      <td>755.0</td>\n",
       "    </tr>\n",
       "    <tr>\n",
       "      <th>87</th>\n",
       "      <td>0</td>\n",
       "      <td>2</td>\n",
       "      <td>1</td>\n",
       "      <td>734.0</td>\n",
       "      <td>600.0</td>\n",
       "      <td>0.0</td>\n",
       "      <td>2</td>\n",
       "      <td>8</td>\n",
       "      <td>1000000</td>\n",
       "      <td>1.00</td>\n",
       "      <td>769.0</td>\n",
       "    </tr>\n",
       "  </tbody>\n",
       "</table>\n",
       "<p>88 rows × 11 columns</p>\n",
       "</div>"
      ],
      "text/plain": [
       "    Material  Nature  Stacking    UTS  Stress_amplitude  Stress_ratio  \\\n",
       "0          1       1         0  330.0             181.5           0.5   \n",
       "1          1       1         0  330.0             214.5           0.5   \n",
       "2          1       1         0  330.0             247.5           0.5   \n",
       "3          0       0         1  560.0             392.0           0.5   \n",
       "4          0       0         1  560.0             448.0           0.5   \n",
       "..       ...     ...       ...    ...               ...           ...   \n",
       "83         0       0         1  560.0             448.0           0.5   \n",
       "84         0       0         1  560.0             504.0           0.5   \n",
       "85         0       0         1  560.0             504.0           0.5   \n",
       "86         0       2         1  734.0             500.0           0.0   \n",
       "87         0       2         1  734.0             600.0           0.0   \n",
       "\n",
       "    Frequency  Number_of_plies  Fatigue_cycles  Normalized_fatigue_life  \\\n",
       "0           3                4           19748                     1.00   \n",
       "1           3                4            8509                     1.00   \n",
       "2           3                4            4252                     1.00   \n",
       "3          10                8          161058                     1.00   \n",
       "4          10                8           94556                     1.00   \n",
       "..        ...              ...             ...                      ...   \n",
       "83         10                8           15000                     0.16   \n",
       "84         10                8           10000                     0.29   \n",
       "85         10                8            5000                     0.14   \n",
       "86          5                8         1000000                     1.00   \n",
       "87          2                8         1000000                     1.00   \n",
       "\n",
       "    Target  \n",
       "0      0.0  \n",
       "1      0.0  \n",
       "2      0.0  \n",
       "3      0.0  \n",
       "4      0.0  \n",
       "..     ...  \n",
       "83   528.0  \n",
       "84   533.0  \n",
       "85   542.0  \n",
       "86   755.0  \n",
       "87   769.0  \n",
       "\n",
       "[88 rows x 11 columns]"
      ]
     },
     "execution_count": 31,
     "metadata": {},
     "output_type": "execute_result"
    }
   ],
   "source": [
    "df = pd.read_csv(\"Residual_Fatigue.csv\")\n",
    "df"
   ]
  },
  {
   "cell_type": "markdown",
   "id": "c42c5ca7-61cf-436f-9124-64057d723816",
   "metadata": {},
   "source": [
    "## Data Preparation"
   ]
  },
  {
   "cell_type": "markdown",
   "id": "25ac159c-82ed-43fd-8f19-38d54d24c1cd",
   "metadata": {},
   "source": [
    "### Data Separation as x and y"
   ]
  },
  {
   "cell_type": "code",
   "execution_count": 33,
   "id": "02e16e37-b5e1-44ed-a84f-ec9667b7baaf",
   "metadata": {},
   "outputs": [
    {
     "data": {
      "text/plain": [
       "0       0.0\n",
       "1       0.0\n",
       "2       0.0\n",
       "3       0.0\n",
       "4       0.0\n",
       "      ...  \n",
       "83    528.0\n",
       "84    533.0\n",
       "85    542.0\n",
       "86    755.0\n",
       "87    769.0\n",
       "Name: Target, Length: 88, dtype: float64"
      ]
     },
     "execution_count": 33,
     "metadata": {},
     "output_type": "execute_result"
    }
   ],
   "source": [
    "y = df[\"Target\"]\n",
    "y"
   ]
  },
  {
   "cell_type": "code",
   "execution_count": 34,
   "id": "1583c49d-59d3-4f87-a4c0-f2ac22e1ebfb",
   "metadata": {},
   "outputs": [
    {
     "data": {
      "text/html": [
       "<div>\n",
       "<style scoped>\n",
       "    .dataframe tbody tr th:only-of-type {\n",
       "        vertical-align: middle;\n",
       "    }\n",
       "\n",
       "    .dataframe tbody tr th {\n",
       "        vertical-align: top;\n",
       "    }\n",
       "\n",
       "    .dataframe thead th {\n",
       "        text-align: right;\n",
       "    }\n",
       "</style>\n",
       "<table border=\"1\" class=\"dataframe\">\n",
       "  <thead>\n",
       "    <tr style=\"text-align: right;\">\n",
       "      <th></th>\n",
       "      <th>Material</th>\n",
       "      <th>Nature</th>\n",
       "      <th>Stacking</th>\n",
       "      <th>UTS</th>\n",
       "      <th>Stress_amplitude</th>\n",
       "      <th>Stress_ratio</th>\n",
       "      <th>Frequency</th>\n",
       "      <th>Number_of_plies</th>\n",
       "      <th>Fatigue_cycles</th>\n",
       "      <th>Normalized_fatigue_life</th>\n",
       "    </tr>\n",
       "  </thead>\n",
       "  <tbody>\n",
       "    <tr>\n",
       "      <th>0</th>\n",
       "      <td>1</td>\n",
       "      <td>1</td>\n",
       "      <td>0</td>\n",
       "      <td>330.0</td>\n",
       "      <td>181.5</td>\n",
       "      <td>0.5</td>\n",
       "      <td>3</td>\n",
       "      <td>4</td>\n",
       "      <td>19748</td>\n",
       "      <td>1.00</td>\n",
       "    </tr>\n",
       "    <tr>\n",
       "      <th>1</th>\n",
       "      <td>1</td>\n",
       "      <td>1</td>\n",
       "      <td>0</td>\n",
       "      <td>330.0</td>\n",
       "      <td>214.5</td>\n",
       "      <td>0.5</td>\n",
       "      <td>3</td>\n",
       "      <td>4</td>\n",
       "      <td>8509</td>\n",
       "      <td>1.00</td>\n",
       "    </tr>\n",
       "    <tr>\n",
       "      <th>2</th>\n",
       "      <td>1</td>\n",
       "      <td>1</td>\n",
       "      <td>0</td>\n",
       "      <td>330.0</td>\n",
       "      <td>247.5</td>\n",
       "      <td>0.5</td>\n",
       "      <td>3</td>\n",
       "      <td>4</td>\n",
       "      <td>4252</td>\n",
       "      <td>1.00</td>\n",
       "    </tr>\n",
       "    <tr>\n",
       "      <th>3</th>\n",
       "      <td>0</td>\n",
       "      <td>0</td>\n",
       "      <td>1</td>\n",
       "      <td>560.0</td>\n",
       "      <td>392.0</td>\n",
       "      <td>0.5</td>\n",
       "      <td>10</td>\n",
       "      <td>8</td>\n",
       "      <td>161058</td>\n",
       "      <td>1.00</td>\n",
       "    </tr>\n",
       "    <tr>\n",
       "      <th>4</th>\n",
       "      <td>0</td>\n",
       "      <td>0</td>\n",
       "      <td>1</td>\n",
       "      <td>560.0</td>\n",
       "      <td>448.0</td>\n",
       "      <td>0.5</td>\n",
       "      <td>10</td>\n",
       "      <td>8</td>\n",
       "      <td>94556</td>\n",
       "      <td>1.00</td>\n",
       "    </tr>\n",
       "    <tr>\n",
       "      <th>...</th>\n",
       "      <td>...</td>\n",
       "      <td>...</td>\n",
       "      <td>...</td>\n",
       "      <td>...</td>\n",
       "      <td>...</td>\n",
       "      <td>...</td>\n",
       "      <td>...</td>\n",
       "      <td>...</td>\n",
       "      <td>...</td>\n",
       "      <td>...</td>\n",
       "    </tr>\n",
       "    <tr>\n",
       "      <th>83</th>\n",
       "      <td>0</td>\n",
       "      <td>0</td>\n",
       "      <td>1</td>\n",
       "      <td>560.0</td>\n",
       "      <td>448.0</td>\n",
       "      <td>0.5</td>\n",
       "      <td>10</td>\n",
       "      <td>8</td>\n",
       "      <td>15000</td>\n",
       "      <td>0.16</td>\n",
       "    </tr>\n",
       "    <tr>\n",
       "      <th>84</th>\n",
       "      <td>0</td>\n",
       "      <td>0</td>\n",
       "      <td>1</td>\n",
       "      <td>560.0</td>\n",
       "      <td>504.0</td>\n",
       "      <td>0.5</td>\n",
       "      <td>10</td>\n",
       "      <td>8</td>\n",
       "      <td>10000</td>\n",
       "      <td>0.29</td>\n",
       "    </tr>\n",
       "    <tr>\n",
       "      <th>85</th>\n",
       "      <td>0</td>\n",
       "      <td>0</td>\n",
       "      <td>1</td>\n",
       "      <td>560.0</td>\n",
       "      <td>504.0</td>\n",
       "      <td>0.5</td>\n",
       "      <td>10</td>\n",
       "      <td>8</td>\n",
       "      <td>5000</td>\n",
       "      <td>0.14</td>\n",
       "    </tr>\n",
       "    <tr>\n",
       "      <th>86</th>\n",
       "      <td>0</td>\n",
       "      <td>2</td>\n",
       "      <td>1</td>\n",
       "      <td>734.0</td>\n",
       "      <td>500.0</td>\n",
       "      <td>0.0</td>\n",
       "      <td>5</td>\n",
       "      <td>8</td>\n",
       "      <td>1000000</td>\n",
       "      <td>1.00</td>\n",
       "    </tr>\n",
       "    <tr>\n",
       "      <th>87</th>\n",
       "      <td>0</td>\n",
       "      <td>2</td>\n",
       "      <td>1</td>\n",
       "      <td>734.0</td>\n",
       "      <td>600.0</td>\n",
       "      <td>0.0</td>\n",
       "      <td>2</td>\n",
       "      <td>8</td>\n",
       "      <td>1000000</td>\n",
       "      <td>1.00</td>\n",
       "    </tr>\n",
       "  </tbody>\n",
       "</table>\n",
       "<p>88 rows × 10 columns</p>\n",
       "</div>"
      ],
      "text/plain": [
       "    Material  Nature  Stacking    UTS  Stress_amplitude  Stress_ratio  \\\n",
       "0          1       1         0  330.0             181.5           0.5   \n",
       "1          1       1         0  330.0             214.5           0.5   \n",
       "2          1       1         0  330.0             247.5           0.5   \n",
       "3          0       0         1  560.0             392.0           0.5   \n",
       "4          0       0         1  560.0             448.0           0.5   \n",
       "..       ...     ...       ...    ...               ...           ...   \n",
       "83         0       0         1  560.0             448.0           0.5   \n",
       "84         0       0         1  560.0             504.0           0.5   \n",
       "85         0       0         1  560.0             504.0           0.5   \n",
       "86         0       2         1  734.0             500.0           0.0   \n",
       "87         0       2         1  734.0             600.0           0.0   \n",
       "\n",
       "    Frequency  Number_of_plies  Fatigue_cycles  Normalized_fatigue_life  \n",
       "0           3                4           19748                     1.00  \n",
       "1           3                4            8509                     1.00  \n",
       "2           3                4            4252                     1.00  \n",
       "3          10                8          161058                     1.00  \n",
       "4          10                8           94556                     1.00  \n",
       "..        ...              ...             ...                      ...  \n",
       "83         10                8           15000                     0.16  \n",
       "84         10                8           10000                     0.29  \n",
       "85         10                8            5000                     0.14  \n",
       "86          5                8         1000000                     1.00  \n",
       "87          2                8         1000000                     1.00  \n",
       "\n",
       "[88 rows x 10 columns]"
      ]
     },
     "execution_count": 34,
     "metadata": {},
     "output_type": "execute_result"
    }
   ],
   "source": [
    "x = df.drop(\"Target\", axis=1)\n",
    "x"
   ]
  },
  {
   "cell_type": "markdown",
   "id": "f49c9391-df18-48f2-b715-6c8c9f64ef25",
   "metadata": {},
   "source": [
    "### Data Splitting"
   ]
  },
  {
   "cell_type": "code",
   "execution_count": 42,
   "id": "cdcd6123-ca52-4b2f-96f3-8fac1932d054",
   "metadata": {},
   "outputs": [],
   "source": [
    "from sklearn.model_selection import train_test_split\n",
    "X_train, X_test, y_train, y_test = train_test_split(X, y, test_size=0.15, random_state=42)"
   ]
  },
  {
   "cell_type": "code",
   "execution_count": 43,
   "id": "184d2fe5-ec8a-4d82-92d7-936a0083e57a",
   "metadata": {},
   "outputs": [
    {
     "data": {
      "text/html": [
       "<div>\n",
       "<style scoped>\n",
       "    .dataframe tbody tr th:only-of-type {\n",
       "        vertical-align: middle;\n",
       "    }\n",
       "\n",
       "    .dataframe tbody tr th {\n",
       "        vertical-align: top;\n",
       "    }\n",
       "\n",
       "    .dataframe thead th {\n",
       "        text-align: right;\n",
       "    }\n",
       "</style>\n",
       "<table border=\"1\" class=\"dataframe\">\n",
       "  <thead>\n",
       "    <tr style=\"text-align: right;\">\n",
       "      <th></th>\n",
       "      <th>Material</th>\n",
       "      <th>Nature</th>\n",
       "      <th>Stacking</th>\n",
       "      <th>UTS</th>\n",
       "      <th>Stress_amplitude</th>\n",
       "      <th>Stress_ratio</th>\n",
       "      <th>Frequency</th>\n",
       "      <th>Number_of_plies</th>\n",
       "      <th>Fatigue_cycles</th>\n",
       "      <th>Normalized_fatigue_life</th>\n",
       "    </tr>\n",
       "  </thead>\n",
       "  <tbody>\n",
       "    <tr>\n",
       "      <th>84</th>\n",
       "      <td>0</td>\n",
       "      <td>0</td>\n",
       "      <td>1</td>\n",
       "      <td>560.00</td>\n",
       "      <td>504.00</td>\n",
       "      <td>0.500</td>\n",
       "      <td>10</td>\n",
       "      <td>8</td>\n",
       "      <td>10000</td>\n",
       "      <td>0.29</td>\n",
       "    </tr>\n",
       "    <tr>\n",
       "      <th>64</th>\n",
       "      <td>0</td>\n",
       "      <td>0</td>\n",
       "      <td>1</td>\n",
       "      <td>418.00</td>\n",
       "      <td>258.00</td>\n",
       "      <td>0.100</td>\n",
       "      <td>10</td>\n",
       "      <td>8</td>\n",
       "      <td>50000</td>\n",
       "      <td>0.12</td>\n",
       "    </tr>\n",
       "    <tr>\n",
       "      <th>33</th>\n",
       "      <td>0</td>\n",
       "      <td>0</td>\n",
       "      <td>3</td>\n",
       "      <td>477.11</td>\n",
       "      <td>344.74</td>\n",
       "      <td>-0.320</td>\n",
       "      <td>10</td>\n",
       "      <td>16</td>\n",
       "      <td>10906</td>\n",
       "      <td>1.00</td>\n",
       "    </tr>\n",
       "    <tr>\n",
       "      <th>79</th>\n",
       "      <td>0</td>\n",
       "      <td>0</td>\n",
       "      <td>1</td>\n",
       "      <td>560.00</td>\n",
       "      <td>504.00</td>\n",
       "      <td>0.500</td>\n",
       "      <td>10</td>\n",
       "      <td>8</td>\n",
       "      <td>25000</td>\n",
       "      <td>0.72</td>\n",
       "    </tr>\n",
       "    <tr>\n",
       "      <th>55</th>\n",
       "      <td>1</td>\n",
       "      <td>1</td>\n",
       "      <td>0</td>\n",
       "      <td>330.00</td>\n",
       "      <td>181.50</td>\n",
       "      <td>0.500</td>\n",
       "      <td>3</td>\n",
       "      <td>4</td>\n",
       "      <td>2000</td>\n",
       "      <td>0.10</td>\n",
       "    </tr>\n",
       "    <tr>\n",
       "      <th>...</th>\n",
       "      <td>...</td>\n",
       "      <td>...</td>\n",
       "      <td>...</td>\n",
       "      <td>...</td>\n",
       "      <td>...</td>\n",
       "      <td>...</td>\n",
       "      <td>...</td>\n",
       "      <td>...</td>\n",
       "      <td>...</td>\n",
       "      <td>...</td>\n",
       "    </tr>\n",
       "    <tr>\n",
       "      <th>20</th>\n",
       "      <td>0</td>\n",
       "      <td>0</td>\n",
       "      <td>3</td>\n",
       "      <td>477.11</td>\n",
       "      <td>317.16</td>\n",
       "      <td>-0.217</td>\n",
       "      <td>10</td>\n",
       "      <td>16</td>\n",
       "      <td>78710</td>\n",
       "      <td>1.00</td>\n",
       "    </tr>\n",
       "    <tr>\n",
       "      <th>60</th>\n",
       "      <td>0</td>\n",
       "      <td>0</td>\n",
       "      <td>1</td>\n",
       "      <td>418.00</td>\n",
       "      <td>258.00</td>\n",
       "      <td>0.100</td>\n",
       "      <td>10</td>\n",
       "      <td>8</td>\n",
       "      <td>50000</td>\n",
       "      <td>0.12</td>\n",
       "    </tr>\n",
       "    <tr>\n",
       "      <th>71</th>\n",
       "      <td>0</td>\n",
       "      <td>0</td>\n",
       "      <td>1</td>\n",
       "      <td>560.00</td>\n",
       "      <td>448.00</td>\n",
       "      <td>0.500</td>\n",
       "      <td>10</td>\n",
       "      <td>8</td>\n",
       "      <td>90000</td>\n",
       "      <td>0.95</td>\n",
       "    </tr>\n",
       "    <tr>\n",
       "      <th>14</th>\n",
       "      <td>0</td>\n",
       "      <td>0</td>\n",
       "      <td>3</td>\n",
       "      <td>477.11</td>\n",
       "      <td>372.31</td>\n",
       "      <td>-0.185</td>\n",
       "      <td>10</td>\n",
       "      <td>16</td>\n",
       "      <td>6997</td>\n",
       "      <td>1.00</td>\n",
       "    </tr>\n",
       "    <tr>\n",
       "      <th>51</th>\n",
       "      <td>1</td>\n",
       "      <td>1</td>\n",
       "      <td>0</td>\n",
       "      <td>330.00</td>\n",
       "      <td>214.50</td>\n",
       "      <td>0.500</td>\n",
       "      <td>3</td>\n",
       "      <td>4</td>\n",
       "      <td>4000</td>\n",
       "      <td>0.47</td>\n",
       "    </tr>\n",
       "  </tbody>\n",
       "</table>\n",
       "<p>74 rows × 10 columns</p>\n",
       "</div>"
      ],
      "text/plain": [
       "    Material  Nature  Stacking     UTS  Stress_amplitude  Stress_ratio  \\\n",
       "84         0       0         1  560.00            504.00         0.500   \n",
       "64         0       0         1  418.00            258.00         0.100   \n",
       "33         0       0         3  477.11            344.74        -0.320   \n",
       "79         0       0         1  560.00            504.00         0.500   \n",
       "55         1       1         0  330.00            181.50         0.500   \n",
       "..       ...     ...       ...     ...               ...           ...   \n",
       "20         0       0         3  477.11            317.16        -0.217   \n",
       "60         0       0         1  418.00            258.00         0.100   \n",
       "71         0       0         1  560.00            448.00         0.500   \n",
       "14         0       0         3  477.11            372.31        -0.185   \n",
       "51         1       1         0  330.00            214.50         0.500   \n",
       "\n",
       "    Frequency  Number_of_plies  Fatigue_cycles  Normalized_fatigue_life  \n",
       "84         10                8           10000                     0.29  \n",
       "64         10                8           50000                     0.12  \n",
       "33         10               16           10906                     1.00  \n",
       "79         10                8           25000                     0.72  \n",
       "55          3                4            2000                     0.10  \n",
       "..        ...              ...             ...                      ...  \n",
       "20         10               16           78710                     1.00  \n",
       "60         10                8           50000                     0.12  \n",
       "71         10                8           90000                     0.95  \n",
       "14         10               16            6997                     1.00  \n",
       "51          3                4            4000                     0.47  \n",
       "\n",
       "[74 rows x 10 columns]"
      ]
     },
     "execution_count": 43,
     "metadata": {},
     "output_type": "execute_result"
    }
   ],
   "source": [
    "X_train"
   ]
  },
  {
   "cell_type": "code",
   "execution_count": 44,
   "id": "a98819e3-44ad-4770-9e3c-34140814af02",
   "metadata": {},
   "outputs": [
    {
     "data": {
      "text/html": [
       "<div>\n",
       "<style scoped>\n",
       "    .dataframe tbody tr th:only-of-type {\n",
       "        vertical-align: middle;\n",
       "    }\n",
       "\n",
       "    .dataframe tbody tr th {\n",
       "        vertical-align: top;\n",
       "    }\n",
       "\n",
       "    .dataframe thead th {\n",
       "        text-align: right;\n",
       "    }\n",
       "</style>\n",
       "<table border=\"1\" class=\"dataframe\">\n",
       "  <thead>\n",
       "    <tr style=\"text-align: right;\">\n",
       "      <th></th>\n",
       "      <th>Material</th>\n",
       "      <th>Nature</th>\n",
       "      <th>Stacking</th>\n",
       "      <th>UTS</th>\n",
       "      <th>Stress_amplitude</th>\n",
       "      <th>Stress_ratio</th>\n",
       "      <th>Frequency</th>\n",
       "      <th>Number_of_plies</th>\n",
       "      <th>Fatigue_cycles</th>\n",
       "      <th>Normalized_fatigue_life</th>\n",
       "    </tr>\n",
       "  </thead>\n",
       "  <tbody>\n",
       "    <tr>\n",
       "      <th>76</th>\n",
       "      <td>0</td>\n",
       "      <td>0</td>\n",
       "      <td>1</td>\n",
       "      <td>560.00</td>\n",
       "      <td>448.00</td>\n",
       "      <td>0.500</td>\n",
       "      <td>10</td>\n",
       "      <td>8</td>\n",
       "      <td>45000</td>\n",
       "      <td>0.48</td>\n",
       "    </tr>\n",
       "    <tr>\n",
       "      <th>0</th>\n",
       "      <td>1</td>\n",
       "      <td>1</td>\n",
       "      <td>0</td>\n",
       "      <td>330.00</td>\n",
       "      <td>181.50</td>\n",
       "      <td>0.500</td>\n",
       "      <td>3</td>\n",
       "      <td>4</td>\n",
       "      <td>19748</td>\n",
       "      <td>1.00</td>\n",
       "    </tr>\n",
       "    <tr>\n",
       "      <th>26</th>\n",
       "      <td>0</td>\n",
       "      <td>0</td>\n",
       "      <td>3</td>\n",
       "      <td>477.11</td>\n",
       "      <td>262.00</td>\n",
       "      <td>-0.263</td>\n",
       "      <td>10</td>\n",
       "      <td>16</td>\n",
       "      <td>485190</td>\n",
       "      <td>1.00</td>\n",
       "    </tr>\n",
       "    <tr>\n",
       "      <th>22</th>\n",
       "      <td>0</td>\n",
       "      <td>0</td>\n",
       "      <td>3</td>\n",
       "      <td>477.11</td>\n",
       "      <td>289.58</td>\n",
       "      <td>-0.238</td>\n",
       "      <td>10</td>\n",
       "      <td>16</td>\n",
       "      <td>78290</td>\n",
       "      <td>1.00</td>\n",
       "    </tr>\n",
       "    <tr>\n",
       "      <th>12</th>\n",
       "      <td>0</td>\n",
       "      <td>0</td>\n",
       "      <td>3</td>\n",
       "      <td>477.11</td>\n",
       "      <td>372.31</td>\n",
       "      <td>-0.185</td>\n",
       "      <td>10</td>\n",
       "      <td>16</td>\n",
       "      <td>10500</td>\n",
       "      <td>1.00</td>\n",
       "    </tr>\n",
       "    <tr>\n",
       "      <th>67</th>\n",
       "      <td>0</td>\n",
       "      <td>0</td>\n",
       "      <td>1</td>\n",
       "      <td>560.00</td>\n",
       "      <td>392.00</td>\n",
       "      <td>0.500</td>\n",
       "      <td>10</td>\n",
       "      <td>8</td>\n",
       "      <td>150000</td>\n",
       "      <td>0.93</td>\n",
       "    </tr>\n",
       "    <tr>\n",
       "      <th>10</th>\n",
       "      <td>0</td>\n",
       "      <td>0</td>\n",
       "      <td>3</td>\n",
       "      <td>477.11</td>\n",
       "      <td>400.00</td>\n",
       "      <td>-0.172</td>\n",
       "      <td>10</td>\n",
       "      <td>16</td>\n",
       "      <td>4980</td>\n",
       "      <td>1.00</td>\n",
       "    </tr>\n",
       "    <tr>\n",
       "      <th>18</th>\n",
       "      <td>0</td>\n",
       "      <td>0</td>\n",
       "      <td>3</td>\n",
       "      <td>477.11</td>\n",
       "      <td>317.16</td>\n",
       "      <td>-0.217</td>\n",
       "      <td>10</td>\n",
       "      <td>16</td>\n",
       "      <td>25520</td>\n",
       "      <td>1.00</td>\n",
       "    </tr>\n",
       "    <tr>\n",
       "      <th>4</th>\n",
       "      <td>0</td>\n",
       "      <td>0</td>\n",
       "      <td>1</td>\n",
       "      <td>560.00</td>\n",
       "      <td>448.00</td>\n",
       "      <td>0.500</td>\n",
       "      <td>10</td>\n",
       "      <td>8</td>\n",
       "      <td>94556</td>\n",
       "      <td>1.00</td>\n",
       "    </tr>\n",
       "    <tr>\n",
       "      <th>68</th>\n",
       "      <td>0</td>\n",
       "      <td>0</td>\n",
       "      <td>1</td>\n",
       "      <td>418.00</td>\n",
       "      <td>258.00</td>\n",
       "      <td>0.100</td>\n",
       "      <td>10</td>\n",
       "      <td>8</td>\n",
       "      <td>50000</td>\n",
       "      <td>0.12</td>\n",
       "    </tr>\n",
       "    <tr>\n",
       "      <th>85</th>\n",
       "      <td>0</td>\n",
       "      <td>0</td>\n",
       "      <td>1</td>\n",
       "      <td>560.00</td>\n",
       "      <td>504.00</td>\n",
       "      <td>0.500</td>\n",
       "      <td>10</td>\n",
       "      <td>8</td>\n",
       "      <td>5000</td>\n",
       "      <td>0.14</td>\n",
       "    </tr>\n",
       "    <tr>\n",
       "      <th>65</th>\n",
       "      <td>0</td>\n",
       "      <td>0</td>\n",
       "      <td>1</td>\n",
       "      <td>418.00</td>\n",
       "      <td>258.00</td>\n",
       "      <td>0.100</td>\n",
       "      <td>10</td>\n",
       "      <td>8</td>\n",
       "      <td>50000</td>\n",
       "      <td>0.12</td>\n",
       "    </tr>\n",
       "    <tr>\n",
       "      <th>53</th>\n",
       "      <td>1</td>\n",
       "      <td>1</td>\n",
       "      <td>0</td>\n",
       "      <td>330.00</td>\n",
       "      <td>247.50</td>\n",
       "      <td>0.500</td>\n",
       "      <td>3</td>\n",
       "      <td>4</td>\n",
       "      <td>2000</td>\n",
       "      <td>0.47</td>\n",
       "    </tr>\n",
       "    <tr>\n",
       "      <th>80</th>\n",
       "      <td>0</td>\n",
       "      <td>0</td>\n",
       "      <td>1</td>\n",
       "      <td>560.00</td>\n",
       "      <td>392.00</td>\n",
       "      <td>0.500</td>\n",
       "      <td>10</td>\n",
       "      <td>8</td>\n",
       "      <td>25000</td>\n",
       "      <td>0.15</td>\n",
       "    </tr>\n",
       "  </tbody>\n",
       "</table>\n",
       "</div>"
      ],
      "text/plain": [
       "    Material  Nature  Stacking     UTS  Stress_amplitude  Stress_ratio  \\\n",
       "76         0       0         1  560.00            448.00         0.500   \n",
       "0          1       1         0  330.00            181.50         0.500   \n",
       "26         0       0         3  477.11            262.00        -0.263   \n",
       "22         0       0         3  477.11            289.58        -0.238   \n",
       "12         0       0         3  477.11            372.31        -0.185   \n",
       "67         0       0         1  560.00            392.00         0.500   \n",
       "10         0       0         3  477.11            400.00        -0.172   \n",
       "18         0       0         3  477.11            317.16        -0.217   \n",
       "4          0       0         1  560.00            448.00         0.500   \n",
       "68         0       0         1  418.00            258.00         0.100   \n",
       "85         0       0         1  560.00            504.00         0.500   \n",
       "65         0       0         1  418.00            258.00         0.100   \n",
       "53         1       1         0  330.00            247.50         0.500   \n",
       "80         0       0         1  560.00            392.00         0.500   \n",
       "\n",
       "    Frequency  Number_of_plies  Fatigue_cycles  Normalized_fatigue_life  \n",
       "76         10                8           45000                     0.48  \n",
       "0           3                4           19748                     1.00  \n",
       "26         10               16          485190                     1.00  \n",
       "22         10               16           78290                     1.00  \n",
       "12         10               16           10500                     1.00  \n",
       "67         10                8          150000                     0.93  \n",
       "10         10               16            4980                     1.00  \n",
       "18         10               16           25520                     1.00  \n",
       "4          10                8           94556                     1.00  \n",
       "68         10                8           50000                     0.12  \n",
       "85         10                8            5000                     0.14  \n",
       "65         10                8           50000                     0.12  \n",
       "53          3                4            2000                     0.47  \n",
       "80         10                8           25000                     0.15  "
      ]
     },
     "execution_count": 44,
     "metadata": {},
     "output_type": "execute_result"
    }
   ],
   "source": [
    "X_test"
   ]
  },
  {
   "cell_type": "markdown",
   "id": "f2dfd446-ed27-4e6e-a60b-da5c4212eabc",
   "metadata": {},
   "source": [
    "## Model Building"
   ]
  },
  {
   "cell_type": "markdown",
   "id": "e8814626-5af9-43d4-92bd-844d438b13be",
   "metadata": {},
   "source": [
    "### Linear Regression"
   ]
  },
  {
   "cell_type": "markdown",
   "id": "cc9c51ac-e09a-4776-ba11-87c912f59c44",
   "metadata": {},
   "source": [
    "#### Training the model"
   ]
  },
  {
   "cell_type": "code",
   "execution_count": 54,
   "id": "564ad57f-1cff-4cd9-b9ed-37397f8eac32",
   "metadata": {},
   "outputs": [
    {
     "data": {
      "text/html": [
       "<style>#sk-container-id-1 {color: black;background-color: white;}#sk-container-id-1 pre{padding: 0;}#sk-container-id-1 div.sk-toggleable {background-color: white;}#sk-container-id-1 label.sk-toggleable__label {cursor: pointer;display: block;width: 100%;margin-bottom: 0;padding: 0.3em;box-sizing: border-box;text-align: center;}#sk-container-id-1 label.sk-toggleable__label-arrow:before {content: \"▸\";float: left;margin-right: 0.25em;color: #696969;}#sk-container-id-1 label.sk-toggleable__label-arrow:hover:before {color: black;}#sk-container-id-1 div.sk-estimator:hover label.sk-toggleable__label-arrow:before {color: black;}#sk-container-id-1 div.sk-toggleable__content {max-height: 0;max-width: 0;overflow: hidden;text-align: left;background-color: #f0f8ff;}#sk-container-id-1 div.sk-toggleable__content pre {margin: 0.2em;color: black;border-radius: 0.25em;background-color: #f0f8ff;}#sk-container-id-1 input.sk-toggleable__control:checked~div.sk-toggleable__content {max-height: 200px;max-width: 100%;overflow: auto;}#sk-container-id-1 input.sk-toggleable__control:checked~label.sk-toggleable__label-arrow:before {content: \"▾\";}#sk-container-id-1 div.sk-estimator input.sk-toggleable__control:checked~label.sk-toggleable__label {background-color: #d4ebff;}#sk-container-id-1 div.sk-label input.sk-toggleable__control:checked~label.sk-toggleable__label {background-color: #d4ebff;}#sk-container-id-1 input.sk-hidden--visually {border: 0;clip: rect(1px 1px 1px 1px);clip: rect(1px, 1px, 1px, 1px);height: 1px;margin: -1px;overflow: hidden;padding: 0;position: absolute;width: 1px;}#sk-container-id-1 div.sk-estimator {font-family: monospace;background-color: #f0f8ff;border: 1px dotted black;border-radius: 0.25em;box-sizing: border-box;margin-bottom: 0.5em;}#sk-container-id-1 div.sk-estimator:hover {background-color: #d4ebff;}#sk-container-id-1 div.sk-parallel-item::after {content: \"\";width: 100%;border-bottom: 1px solid gray;flex-grow: 1;}#sk-container-id-1 div.sk-label:hover label.sk-toggleable__label {background-color: #d4ebff;}#sk-container-id-1 div.sk-serial::before {content: \"\";position: absolute;border-left: 1px solid gray;box-sizing: border-box;top: 0;bottom: 0;left: 50%;z-index: 0;}#sk-container-id-1 div.sk-serial {display: flex;flex-direction: column;align-items: center;background-color: white;padding-right: 0.2em;padding-left: 0.2em;position: relative;}#sk-container-id-1 div.sk-item {position: relative;z-index: 1;}#sk-container-id-1 div.sk-parallel {display: flex;align-items: stretch;justify-content: center;background-color: white;position: relative;}#sk-container-id-1 div.sk-item::before, #sk-container-id-1 div.sk-parallel-item::before {content: \"\";position: absolute;border-left: 1px solid gray;box-sizing: border-box;top: 0;bottom: 0;left: 50%;z-index: -1;}#sk-container-id-1 div.sk-parallel-item {display: flex;flex-direction: column;z-index: 1;position: relative;background-color: white;}#sk-container-id-1 div.sk-parallel-item:first-child::after {align-self: flex-end;width: 50%;}#sk-container-id-1 div.sk-parallel-item:last-child::after {align-self: flex-start;width: 50%;}#sk-container-id-1 div.sk-parallel-item:only-child::after {width: 0;}#sk-container-id-1 div.sk-dashed-wrapped {border: 1px dashed gray;margin: 0 0.4em 0.5em 0.4em;box-sizing: border-box;padding-bottom: 0.4em;background-color: white;}#sk-container-id-1 div.sk-label label {font-family: monospace;font-weight: bold;display: inline-block;line-height: 1.2em;}#sk-container-id-1 div.sk-label-container {text-align: center;}#sk-container-id-1 div.sk-container {/* jupyter's `normalize.less` sets `[hidden] { display: none; }` but bootstrap.min.css set `[hidden] { display: none !important; }` so we also need the `!important` here to be able to override the default hidden behavior on the sphinx rendered scikit-learn.org. See: https://github.com/scikit-learn/scikit-learn/issues/21755 */display: inline-block !important;position: relative;}#sk-container-id-1 div.sk-text-repr-fallback {display: none;}</style><div id=\"sk-container-id-1\" class=\"sk-top-container\"><div class=\"sk-text-repr-fallback\"><pre>LinearRegression()</pre><b>In a Jupyter environment, please rerun this cell to show the HTML representation or trust the notebook. <br />On GitHub, the HTML representation is unable to render, please try loading this page with nbviewer.org.</b></div><div class=\"sk-container\" hidden><div class=\"sk-item\"><div class=\"sk-estimator sk-toggleable\"><input class=\"sk-toggleable__control sk-hidden--visually\" id=\"sk-estimator-id-1\" type=\"checkbox\" checked><label for=\"sk-estimator-id-1\" class=\"sk-toggleable__label sk-toggleable__label-arrow\">LinearRegression</label><div class=\"sk-toggleable__content\"><pre>LinearRegression()</pre></div></div></div></div></div>"
      ],
      "text/plain": [
       "LinearRegression()"
      ]
     },
     "execution_count": 54,
     "metadata": {},
     "output_type": "execute_result"
    }
   ],
   "source": [
    "from sklearn.linear_model import LinearRegression, Ridge, Lasso, ElasticNet\n",
    "lr = LinearRegression()\n",
    "lr.fit(X_train,y_train)"
   ]
  },
  {
   "cell_type": "markdown",
   "id": "4f48b1bd-e3d8-4694-bf5d-e0c71ed93d4b",
   "metadata": {},
   "source": [
    "#### Applying the model to make a prediction"
   ]
  },
  {
   "cell_type": "code",
   "execution_count": 55,
   "id": "be5e145c-84a4-457d-abce-0666e8b82883",
   "metadata": {},
   "outputs": [],
   "source": [
    "y_lr_train_pred = lr.predict(X_train)\n",
    "y_lr_test_pred = lr.predict(X_test)"
   ]
  },
  {
   "cell_type": "code",
   "execution_count": 58,
   "id": "44ac361d-7ae7-47c7-ab78-7930ea9c9b82",
   "metadata": {},
   "outputs": [
    {
     "data": {
      "text/plain": [
       "array([ 5.38567536e+02,  3.50222222e+02,  9.30199722e+00,  4.09567195e+02,\n",
       "        3.39076843e+02,  4.56735197e+02,  5.88525838e+00,  1.78880453e+01,\n",
       "        2.80883957e+00, -1.48076223e+01,  5.90125203e+00,  3.50222222e+02,\n",
       "        3.25567133e+02, -3.53364575e-01,  1.78986977e+01,  9.26700322e+00,\n",
       "        9.89353331e+01,  7.87221938e+01, -4.65754646e+00,  8.88287635e+01,\n",
       "        9.30472094e+00,  1.13815722e+01,  2.49054041e+02,  3.50222222e+02,\n",
       "       -9.49958462e+00,  3.71741229e+02, -1.60815539e+01,  1.29023640e+02,\n",
       "        4.93371446e-01, -1.76124971e+01,  2.98076225e+02, -4.68801777e+00,\n",
       "        3.40911479e-01,  1.13759277e+01,  3.63932969e+02,  1.13799704e+01,\n",
       "        3.13622976e+02,  1.20024277e+00,  5.15598824e+02,  7.69000000e+02,\n",
       "        3.05340041e+02,  9.85837215e+01,  1.03514187e+02,  9.88599878e+01,\n",
       "        7.55000000e+02, -4.68472808e+00,  4.11834968e+02, -1.61994991e+01,\n",
       "        2.25012819e+00,  3.50222222e+02,  3.50222222e+02,  9.52464119e+01,\n",
       "        3.67567672e+02,  3.50222222e+02,  1.78860645e+01,  5.63551356e+02,\n",
       "        3.50222222e+02,  3.50222222e+02,  5.04637196e+02,  4.01020302e-01,\n",
       "       -1.08555998e+01,  7.72383598e+01,  3.09069242e+02, -1.35027618e+01,\n",
       "        8.55048364e+01, -1.32088274e+01,  4.54568489e+02,  4.22695531e+02,\n",
       "        4.96568013e+02, -9.28628547e+00,  3.50222222e+02,  3.26790467e+02,\n",
       "        4.72865216e-01,  2.36309422e+02])"
      ]
     },
     "execution_count": 58,
     "metadata": {},
     "output_type": "execute_result"
    }
   ],
   "source": [
    "y_lr_train_pred"
   ]
  },
  {
   "cell_type": "code",
   "execution_count": 59,
   "id": "40d86864-2c5e-41c4-be67-b39fde283386",
   "metadata": {},
   "outputs": [
    {
     "data": {
      "text/plain": [
       "array([ 4.67646292e+02,  6.90071653e+01, -1.57246404e+01, -1.37677055e+01,\n",
       "        4.90566873e-01,  3.19032741e+02,  5.90195949e+00, -9.55506969e+00,\n",
       "        3.11804637e+02,  3.50222222e+02,  5.83568830e+02,  3.50222222e+02,\n",
       "        2.44587303e+02,  5.52539195e+02])"
      ]
     },
     "execution_count": 59,
     "metadata": {},
     "output_type": "execute_result"
    }
   ],
   "source": [
    "y_lr_test_pred"
   ]
  },
  {
   "cell_type": "code",
   "execution_count": 60,
   "id": "dc55a2e6-b969-4ced-99fd-8b11e7e63ae0",
   "metadata": {},
   "outputs": [
    {
     "data": {
      "text/plain": [
       "84    533.0\n",
       "64    370.0\n",
       "33      0.0\n",
       "79    510.0\n",
       "55    278.0\n",
       "      ...  \n",
       "20      0.0\n",
       "60    338.0\n",
       "71    450.0\n",
       "14      0.0\n",
       "51    253.0\n",
       "Name: Target, Length: 74, dtype: float64"
      ]
     },
     "execution_count": 60,
     "metadata": {},
     "output_type": "execute_result"
    }
   ],
   "source": [
    "y_train"
   ]
  },
  {
   "cell_type": "code",
   "execution_count": 62,
   "id": "9d8637c8-9515-47da-b97d-923d5b96994b",
   "metadata": {},
   "outputs": [
    {
     "data": {
      "text/plain": [
       "array([ 5.38567536e+02,  3.50222222e+02,  9.30199722e+00,  4.09567195e+02,\n",
       "        3.39076843e+02,  4.56735197e+02,  5.88525838e+00,  1.78880453e+01,\n",
       "        2.80883957e+00, -1.48076223e+01,  5.90125203e+00,  3.50222222e+02,\n",
       "        3.25567133e+02, -3.53364575e-01,  1.78986977e+01,  9.26700322e+00,\n",
       "        9.89353331e+01,  7.87221938e+01, -4.65754646e+00,  8.88287635e+01,\n",
       "        9.30472094e+00,  1.13815722e+01,  2.49054041e+02,  3.50222222e+02,\n",
       "       -9.49958462e+00,  3.71741229e+02, -1.60815539e+01,  1.29023640e+02,\n",
       "        4.93371446e-01, -1.76124971e+01,  2.98076225e+02, -4.68801777e+00,\n",
       "        3.40911479e-01,  1.13759277e+01,  3.63932969e+02,  1.13799704e+01,\n",
       "        3.13622976e+02,  1.20024277e+00,  5.15598824e+02,  7.69000000e+02,\n",
       "        3.05340041e+02,  9.85837215e+01,  1.03514187e+02,  9.88599878e+01,\n",
       "        7.55000000e+02, -4.68472808e+00,  4.11834968e+02, -1.61994991e+01,\n",
       "        2.25012819e+00,  3.50222222e+02,  3.50222222e+02,  9.52464119e+01,\n",
       "        3.67567672e+02,  3.50222222e+02,  1.78860645e+01,  5.63551356e+02,\n",
       "        3.50222222e+02,  3.50222222e+02,  5.04637196e+02,  4.01020302e-01,\n",
       "       -1.08555998e+01,  7.72383598e+01,  3.09069242e+02, -1.35027618e+01,\n",
       "        8.55048364e+01, -1.32088274e+01,  4.54568489e+02,  4.22695531e+02,\n",
       "        4.96568013e+02, -9.28628547e+00,  3.50222222e+02,  3.26790467e+02,\n",
       "        4.72865216e-01,  2.36309422e+02])"
      ]
     },
     "execution_count": 62,
     "metadata": {},
     "output_type": "execute_result"
    }
   ],
   "source": [
    "y_lr_train_pred"
   ]
  },
  {
   "cell_type": "markdown",
   "id": "ea672f98-899b-47a7-9125-2fa5f0390815",
   "metadata": {},
   "source": [
    "#### Evaluate model performance"
   ]
  },
  {
   "cell_type": "code",
   "execution_count": 51,
   "id": "cca1528d-a170-4586-9c29-5ba44114a2d7",
   "metadata": {},
   "outputs": [],
   "source": [
    "from sklearn.metrics import r2_score, mean_absolute_error, median_absolute_error, mean_squared_error"
   ]
  },
  {
   "cell_type": "code",
   "execution_count": 52,
   "id": "c5f94546-1458-44d6-af0b-84ea1d8ebb09",
   "metadata": {},
   "outputs": [],
   "source": [
    "def evaluate(model, X_test, y_test):\n",
    "    y_pred = model.predict(X_test)\n",
    "    print(\"\\n🔹 R2 Score:\", r2_score(y_test, y_pred))\n",
    "    print(\"🔹 MAE:\", mean_absolute_error(y_test, y_pred))\n",
    "    print(\"🔹 MedAE:\", median_absolute_error(y_test, y_pred))\n",
    "    print(\"🔹 RMSE:\", np.sqrt(mean_squared_error(y_test, y_pred)))\n",
    "    return y_pred"
   ]
  },
  {
   "cell_type": "code",
   "execution_count": 48,
   "id": "25daaba0-b9f8-4547-adc0-db3aa045aadf",
   "metadata": {},
   "outputs": [
    {
     "name": "stdout",
     "output_type": "stream",
     "text": [
      "\n",
      "=== Linear Regression ===\n",
      "\n",
      "🔹 R2 Score: 0.8306059171487077\n",
      "🔹 MAE: 52.117784822434025\n",
      "🔹 MedAE: 27.565742645828948\n",
      "🔹 RMSE: 91.95473317953936\n",
      "\n",
      "=== Ridge ===\n",
      "\n",
      "🔹 R2 Score: 0.7969537501866182\n",
      "🔹 MAE: 51.97889290769416\n",
      "🔹 MedAE: 19.155441482329763\n",
      "🔹 RMSE: 100.6751897852344\n",
      "\n",
      "=== Lasso ===\n",
      "\n",
      "🔹 R2 Score: 0.8173922742659968\n",
      "🔹 MAE: 53.47356766921147\n",
      "🔹 MedAE: 29.714883601770566\n",
      "🔹 RMSE: 95.47387386422815\n",
      "\n",
      "=== ElasticNet ===\n",
      "\n",
      "🔹 R2 Score: 0.5955556813810443\n",
      "🔹 MAE: 85.72029580640302\n",
      "🔹 MedAE: 37.572135117617506\n",
      "🔹 RMSE: 142.0869985175256\n"
     ]
    }
   ],
   "source": [
    "models = {\n",
    "    \"Linear Regression\": LinearRegression(),\n",
    "    \"Ridge\": Ridge(),\n",
    "    \"Lasso\": Lasso(),\n",
    "    \"ElasticNet\": ElasticNet()\n",
    "}\n",
    "for name, model in models.items():\n",
    "    print(f\"\\n=== {name} ===\")\n",
    "    model.fit(X_train, y_train)\n",
    "    evaluate(model, X_test, y_test)"
   ]
  },
  {
   "cell_type": "markdown",
   "id": "9df96998-a9f1-4ee9-a5ae-f6141c026925",
   "metadata": {},
   "source": [
    "### Random Forest"
   ]
  },
  {
   "cell_type": "markdown",
   "id": "be3d015b-5137-4580-9bc9-039748dbb3bf",
   "metadata": {},
   "source": [
    "#### Training the model"
   ]
  },
  {
   "cell_type": "code",
   "execution_count": 66,
   "id": "8e97c2de-86e7-426e-997c-9aa38d0ba282",
   "metadata": {},
   "outputs": [
    {
     "data": {
      "text/html": [
       "<style>#sk-container-id-3 {color: black;background-color: white;}#sk-container-id-3 pre{padding: 0;}#sk-container-id-3 div.sk-toggleable {background-color: white;}#sk-container-id-3 label.sk-toggleable__label {cursor: pointer;display: block;width: 100%;margin-bottom: 0;padding: 0.3em;box-sizing: border-box;text-align: center;}#sk-container-id-3 label.sk-toggleable__label-arrow:before {content: \"▸\";float: left;margin-right: 0.25em;color: #696969;}#sk-container-id-3 label.sk-toggleable__label-arrow:hover:before {color: black;}#sk-container-id-3 div.sk-estimator:hover label.sk-toggleable__label-arrow:before {color: black;}#sk-container-id-3 div.sk-toggleable__content {max-height: 0;max-width: 0;overflow: hidden;text-align: left;background-color: #f0f8ff;}#sk-container-id-3 div.sk-toggleable__content pre {margin: 0.2em;color: black;border-radius: 0.25em;background-color: #f0f8ff;}#sk-container-id-3 input.sk-toggleable__control:checked~div.sk-toggleable__content {max-height: 200px;max-width: 100%;overflow: auto;}#sk-container-id-3 input.sk-toggleable__control:checked~label.sk-toggleable__label-arrow:before {content: \"▾\";}#sk-container-id-3 div.sk-estimator input.sk-toggleable__control:checked~label.sk-toggleable__label {background-color: #d4ebff;}#sk-container-id-3 div.sk-label input.sk-toggleable__control:checked~label.sk-toggleable__label {background-color: #d4ebff;}#sk-container-id-3 input.sk-hidden--visually {border: 0;clip: rect(1px 1px 1px 1px);clip: rect(1px, 1px, 1px, 1px);height: 1px;margin: -1px;overflow: hidden;padding: 0;position: absolute;width: 1px;}#sk-container-id-3 div.sk-estimator {font-family: monospace;background-color: #f0f8ff;border: 1px dotted black;border-radius: 0.25em;box-sizing: border-box;margin-bottom: 0.5em;}#sk-container-id-3 div.sk-estimator:hover {background-color: #d4ebff;}#sk-container-id-3 div.sk-parallel-item::after {content: \"\";width: 100%;border-bottom: 1px solid gray;flex-grow: 1;}#sk-container-id-3 div.sk-label:hover label.sk-toggleable__label {background-color: #d4ebff;}#sk-container-id-3 div.sk-serial::before {content: \"\";position: absolute;border-left: 1px solid gray;box-sizing: border-box;top: 0;bottom: 0;left: 50%;z-index: 0;}#sk-container-id-3 div.sk-serial {display: flex;flex-direction: column;align-items: center;background-color: white;padding-right: 0.2em;padding-left: 0.2em;position: relative;}#sk-container-id-3 div.sk-item {position: relative;z-index: 1;}#sk-container-id-3 div.sk-parallel {display: flex;align-items: stretch;justify-content: center;background-color: white;position: relative;}#sk-container-id-3 div.sk-item::before, #sk-container-id-3 div.sk-parallel-item::before {content: \"\";position: absolute;border-left: 1px solid gray;box-sizing: border-box;top: 0;bottom: 0;left: 50%;z-index: -1;}#sk-container-id-3 div.sk-parallel-item {display: flex;flex-direction: column;z-index: 1;position: relative;background-color: white;}#sk-container-id-3 div.sk-parallel-item:first-child::after {align-self: flex-end;width: 50%;}#sk-container-id-3 div.sk-parallel-item:last-child::after {align-self: flex-start;width: 50%;}#sk-container-id-3 div.sk-parallel-item:only-child::after {width: 0;}#sk-container-id-3 div.sk-dashed-wrapped {border: 1px dashed gray;margin: 0 0.4em 0.5em 0.4em;box-sizing: border-box;padding-bottom: 0.4em;background-color: white;}#sk-container-id-3 div.sk-label label {font-family: monospace;font-weight: bold;display: inline-block;line-height: 1.2em;}#sk-container-id-3 div.sk-label-container {text-align: center;}#sk-container-id-3 div.sk-container {/* jupyter's `normalize.less` sets `[hidden] { display: none; }` but bootstrap.min.css set `[hidden] { display: none !important; }` so we also need the `!important` here to be able to override the default hidden behavior on the sphinx rendered scikit-learn.org. See: https://github.com/scikit-learn/scikit-learn/issues/21755 */display: inline-block !important;position: relative;}#sk-container-id-3 div.sk-text-repr-fallback {display: none;}</style><div id=\"sk-container-id-3\" class=\"sk-top-container\"><div class=\"sk-text-repr-fallback\"><pre>RandomForestRegressor(max_depth=5, random_state=200)</pre><b>In a Jupyter environment, please rerun this cell to show the HTML representation or trust the notebook. <br />On GitHub, the HTML representation is unable to render, please try loading this page with nbviewer.org.</b></div><div class=\"sk-container\" hidden><div class=\"sk-item\"><div class=\"sk-estimator sk-toggleable\"><input class=\"sk-toggleable__control sk-hidden--visually\" id=\"sk-estimator-id-3\" type=\"checkbox\" checked><label for=\"sk-estimator-id-3\" class=\"sk-toggleable__label sk-toggleable__label-arrow\">RandomForestRegressor</label><div class=\"sk-toggleable__content\"><pre>RandomForestRegressor(max_depth=5, random_state=200)</pre></div></div></div></div></div>"
      ],
      "text/plain": [
       "RandomForestRegressor(max_depth=5, random_state=200)"
      ]
     },
     "execution_count": 66,
     "metadata": {},
     "output_type": "execute_result"
    }
   ],
   "source": [
    "from sklearn.ensemble import (\n",
    "    RandomForestRegressor,\n",
    "    GradientBoostingRegressor,\n",
    "    AdaBoostRegressor\n",
    ")\n",
    "rf = RandomForestRegressor(max_depth = 5, random_state = 200)\n",
    "rf.fit(X_train, y_train)"
   ]
  },
  {
   "cell_type": "markdown",
   "id": "09739095-25f4-483d-a7ca-24bee9eab4d3",
   "metadata": {},
   "source": [
    "#### Applying the model to make a prediction"
   ]
  },
  {
   "cell_type": "code",
   "execution_count": 67,
   "id": "bc5bc62a-3fc7-4afc-b507-f338ca65e9aa",
   "metadata": {},
   "outputs": [],
   "source": [
    "y_rf_train_pred = rf.predict(X_train)\n",
    "y_rf_test_pred = rf.predict(X_test)"
   ]
  },
  {
   "cell_type": "markdown",
   "id": "6af656df-dee9-4bf2-8790-cc660ec9a6e5",
   "metadata": {},
   "source": [
    "#### Evaluate model performance"
   ]
  },
  {
   "cell_type": "markdown",
   "id": "ee242327-a7e3-4a14-831a-db2bea83c430",
   "metadata": {},
   "source": [
    "#### Random Forest Regressor"
   ]
  },
  {
   "cell_type": "code",
   "execution_count": 69,
   "id": "5fb79e3f-65f9-4fc4-b8f0-ab2ce2d9a811",
   "metadata": {},
   "outputs": [
    {
     "name": "stdout",
     "output_type": "stream",
     "text": [
      "\n",
      "🏆 Best RF Params: {'max_depth': None, 'min_samples_split': 2, 'n_estimators': 200}\n",
      "=== Random Forest Regressor Evaluation ===\n",
      "\n",
      "🔹 R2 Score: 0.9690756483625668\n",
      "🔹 MAE: 21.320700182870343\n",
      "🔹 MedAE: 9.654374999999987\n",
      "🔹 RMSE: 39.289388737123346\n"
     ]
    },
    {
     "data": {
      "text/plain": [
       "array([500.15      ,  11.15875   ,   0.        ,   0.        ,\n",
       "         0.        , 387.87554167,   0.        ,   0.        ,\n",
       "       124.03      , 349.99646802, 524.15658333, 349.99646802,\n",
       "       272.95015491, 484.77404131])"
      ]
     },
     "execution_count": 69,
     "metadata": {},
     "output_type": "execute_result"
    }
   ],
   "source": [
    "params_rf = {\n",
    "    'n_estimators': [100, 200],\n",
    "    'max_depth': [5, None],\n",
    "    'min_samples_split': [2, 5]\n",
    "}\n",
    "\n",
    "grid_rf = GridSearchCV(RandomForestRegressor(), params_rf, cv=5, scoring='r2')\n",
    "grid_rf.fit(X_train, y_train)\n",
    "\n",
    "print(\"\\n🏆 Best RF Params:\", grid_rf.best_params_)\n",
    "print(\"=== Random Forest Regressor Evaluation ===\")\n",
    "evaluate(grid_rf.best_estimator_, X_test, y_test)"
   ]
  },
  {
   "cell_type": "markdown",
   "id": "cd3c6dad-4ebd-446e-971f-1b9082ffbdf2",
   "metadata": {},
   "source": [
    "#### Gradient Boosting Regressor"
   ]
  },
  {
   "cell_type": "code",
   "execution_count": 14,
   "id": "6edfcd49-6bdd-4fff-9763-61a2495bc2d8",
   "metadata": {},
   "outputs": [
    {
     "name": "stdout",
     "output_type": "stream",
     "text": [
      "\n",
      "🏆 Best GBR Params: {'learning_rate': 0.1, 'max_depth': 7, 'n_estimators': 200, 'subsample': 0.8}\n",
      "=== Gradient Boosting Regressor Evaluation ===\n",
      "\n",
      "🔹 R2 Score: 0.9564778121910864\n",
      "🔹 MAE: 21.5913823278091\n",
      "🔹 MedAE: 2.4526663669014366\n",
      "🔹 RMSE: 46.6101316944378\n"
     ]
    },
    {
     "data": {
      "text/plain": [
       "array([ 4.90368234e+02, -2.68498628e+00,  9.40664812e-05,  1.83549380e-04,\n",
       "        4.09886469e-04,  3.73779446e+02, -1.31845709e-03,  1.54735559e-03,\n",
       "        1.57362377e+02,  3.50296373e+02,  5.30581056e+02,  3.50296373e+02,\n",
       "        2.70220346e+02,  5.03670429e+02])"
      ]
     },
     "execution_count": 14,
     "metadata": {},
     "output_type": "execute_result"
    }
   ],
   "source": [
    "params_gbr = {\n",
    "    'n_estimators': [100, 200],\n",
    "    'max_depth': [3, 5, 7],\n",
    "    'learning_rate': [0.1, 0.05],\n",
    "    'subsample': [0.8, 1.0]\n",
    "}\n",
    "grid_gbr = GridSearchCV(GradientBoostingRegressor(), params_gbr, cv=5, scoring='r2')\n",
    "grid_gbr.fit(X_train, y_train)\n",
    "print(\"\\n🏆 Best GBR Params:\", grid_gbr.best_params_)\n",
    "print(\"=== Gradient Boosting Regressor Evaluation ===\")\n",
    "evaluate(grid_gbr.best_estimator_, X_test, y_test)"
   ]
  },
  {
   "cell_type": "markdown",
   "id": "91bed29b-4243-4ddf-ad87-3eec929ac4ce",
   "metadata": {},
   "source": [
    "### MLP Regressor"
   ]
  },
  {
   "cell_type": "markdown",
   "id": "9fa0356b-7b72-4e4f-b8d4-35c051d20810",
   "metadata": {},
   "source": [
    "#### Training the model"
   ]
  },
  {
   "cell_type": "code",
   "execution_count": 70,
   "id": "32688734-d379-4774-a0fb-b667d791087e",
   "metadata": {},
   "outputs": [
    {
     "data": {
      "text/html": [
       "<style>#sk-container-id-4 {color: black;background-color: white;}#sk-container-id-4 pre{padding: 0;}#sk-container-id-4 div.sk-toggleable {background-color: white;}#sk-container-id-4 label.sk-toggleable__label {cursor: pointer;display: block;width: 100%;margin-bottom: 0;padding: 0.3em;box-sizing: border-box;text-align: center;}#sk-container-id-4 label.sk-toggleable__label-arrow:before {content: \"▸\";float: left;margin-right: 0.25em;color: #696969;}#sk-container-id-4 label.sk-toggleable__label-arrow:hover:before {color: black;}#sk-container-id-4 div.sk-estimator:hover label.sk-toggleable__label-arrow:before {color: black;}#sk-container-id-4 div.sk-toggleable__content {max-height: 0;max-width: 0;overflow: hidden;text-align: left;background-color: #f0f8ff;}#sk-container-id-4 div.sk-toggleable__content pre {margin: 0.2em;color: black;border-radius: 0.25em;background-color: #f0f8ff;}#sk-container-id-4 input.sk-toggleable__control:checked~div.sk-toggleable__content {max-height: 200px;max-width: 100%;overflow: auto;}#sk-container-id-4 input.sk-toggleable__control:checked~label.sk-toggleable__label-arrow:before {content: \"▾\";}#sk-container-id-4 div.sk-estimator input.sk-toggleable__control:checked~label.sk-toggleable__label {background-color: #d4ebff;}#sk-container-id-4 div.sk-label input.sk-toggleable__control:checked~label.sk-toggleable__label {background-color: #d4ebff;}#sk-container-id-4 input.sk-hidden--visually {border: 0;clip: rect(1px 1px 1px 1px);clip: rect(1px, 1px, 1px, 1px);height: 1px;margin: -1px;overflow: hidden;padding: 0;position: absolute;width: 1px;}#sk-container-id-4 div.sk-estimator {font-family: monospace;background-color: #f0f8ff;border: 1px dotted black;border-radius: 0.25em;box-sizing: border-box;margin-bottom: 0.5em;}#sk-container-id-4 div.sk-estimator:hover {background-color: #d4ebff;}#sk-container-id-4 div.sk-parallel-item::after {content: \"\";width: 100%;border-bottom: 1px solid gray;flex-grow: 1;}#sk-container-id-4 div.sk-label:hover label.sk-toggleable__label {background-color: #d4ebff;}#sk-container-id-4 div.sk-serial::before {content: \"\";position: absolute;border-left: 1px solid gray;box-sizing: border-box;top: 0;bottom: 0;left: 50%;z-index: 0;}#sk-container-id-4 div.sk-serial {display: flex;flex-direction: column;align-items: center;background-color: white;padding-right: 0.2em;padding-left: 0.2em;position: relative;}#sk-container-id-4 div.sk-item {position: relative;z-index: 1;}#sk-container-id-4 div.sk-parallel {display: flex;align-items: stretch;justify-content: center;background-color: white;position: relative;}#sk-container-id-4 div.sk-item::before, #sk-container-id-4 div.sk-parallel-item::before {content: \"\";position: absolute;border-left: 1px solid gray;box-sizing: border-box;top: 0;bottom: 0;left: 50%;z-index: -1;}#sk-container-id-4 div.sk-parallel-item {display: flex;flex-direction: column;z-index: 1;position: relative;background-color: white;}#sk-container-id-4 div.sk-parallel-item:first-child::after {align-self: flex-end;width: 50%;}#sk-container-id-4 div.sk-parallel-item:last-child::after {align-self: flex-start;width: 50%;}#sk-container-id-4 div.sk-parallel-item:only-child::after {width: 0;}#sk-container-id-4 div.sk-dashed-wrapped {border: 1px dashed gray;margin: 0 0.4em 0.5em 0.4em;box-sizing: border-box;padding-bottom: 0.4em;background-color: white;}#sk-container-id-4 div.sk-label label {font-family: monospace;font-weight: bold;display: inline-block;line-height: 1.2em;}#sk-container-id-4 div.sk-label-container {text-align: center;}#sk-container-id-4 div.sk-container {/* jupyter's `normalize.less` sets `[hidden] { display: none; }` but bootstrap.min.css set `[hidden] { display: none !important; }` so we also need the `!important` here to be able to override the default hidden behavior on the sphinx rendered scikit-learn.org. See: https://github.com/scikit-learn/scikit-learn/issues/21755 */display: inline-block !important;position: relative;}#sk-container-id-4 div.sk-text-repr-fallback {display: none;}</style><div id=\"sk-container-id-4\" class=\"sk-top-container\"><div class=\"sk-text-repr-fallback\"><pre>MLPRegressor(hidden_layer_sizes=(30, 20), max_iter=1000, random_state=42)</pre><b>In a Jupyter environment, please rerun this cell to show the HTML representation or trust the notebook. <br />On GitHub, the HTML representation is unable to render, please try loading this page with nbviewer.org.</b></div><div class=\"sk-container\" hidden><div class=\"sk-item\"><div class=\"sk-estimator sk-toggleable\"><input class=\"sk-toggleable__control sk-hidden--visually\" id=\"sk-estimator-id-4\" type=\"checkbox\" checked><label for=\"sk-estimator-id-4\" class=\"sk-toggleable__label sk-toggleable__label-arrow\">MLPRegressor</label><div class=\"sk-toggleable__content\"><pre>MLPRegressor(hidden_layer_sizes=(30, 20), max_iter=1000, random_state=42)</pre></div></div></div></div></div>"
      ],
      "text/plain": [
       "MLPRegressor(hidden_layer_sizes=(30, 20), max_iter=1000, random_state=42)"
      ]
     },
     "execution_count": 70,
     "metadata": {},
     "output_type": "execute_result"
    }
   ],
   "source": [
    "from sklearn.neural_network import MLPRegressor\n",
    "mlp = MLPRegressor(hidden_layer_sizes=(30, 20), activation='relu', solver='adam',\n",
    "                   max_iter=1000, random_state=42)\n",
    "mlp.fit(X_train, y_train)"
   ]
  },
  {
   "cell_type": "markdown",
   "id": "f1d05a5d-f032-4075-afc2-19278ae8881c",
   "metadata": {},
   "source": [
    "#### Applying the model to make a prediction"
   ]
  },
  {
   "cell_type": "code",
   "execution_count": 71,
   "id": "b6130948-4b09-4dea-892e-8e5a675db940",
   "metadata": {},
   "outputs": [],
   "source": [
    "y_pred_mlp = mlp.predict(X_test)"
   ]
  },
  {
   "cell_type": "markdown",
   "id": "63b3d814-ad13-4a4a-9180-08230b069fe8",
   "metadata": {},
   "source": [
    "#### Evaluate model performance"
   ]
  },
  {
   "cell_type": "code",
   "execution_count": 72,
   "id": "e05bee52-fddf-454b-9b0a-8069cc4dbc30",
   "metadata": {},
   "outputs": [
    {
     "name": "stdout",
     "output_type": "stream",
     "text": [
      "\n",
      "=== MLP Regressor (Scikit-Learn) ===\n",
      "🔹 R2 Score: -328.7611189072317\n",
      "🔹 MAE: 2030.4769628135534\n",
      "🔹 MedAE: 761.0860265322297\n",
      "🔹 RMSE: 4057.1839117172144\n"
     ]
    }
   ],
   "source": [
    "print(\"\\n=== MLP Regressor (Scikit-Learn) ===\")\n",
    "print(\"🔹 R2 Score:\", r2_score(y_test, y_pred_mlp))\n",
    "print(\"🔹 MAE:\", mean_absolute_error(y_test, y_pred_mlp))\n",
    "print(\"🔹 MedAE:\", median_absolute_error(y_test, y_pred_mlp))\n",
    "print(\"🔹 RMSE:\", np.sqrt(mean_squared_error(y_test, y_pred_mlp)))"
   ]
  },
  {
   "cell_type": "markdown",
   "id": "4fe8e594-efe4-436e-a6be-255bfa2f76cb",
   "metadata": {},
   "source": [
    "## Data Visualization"
   ]
  },
  {
   "cell_type": "code",
   "execution_count": 77,
   "id": "5fe44d5a-4c37-4858-95f4-debd18b3e779",
   "metadata": {},
   "outputs": [
    {
     "data": {
      "image/png": "[encoded data removed]",
      "text/plain": [
       "<Figure size 800x600 with 1 Axes>"
      ]
     },
     "metadata": {},
     "output_type": "display_data"
    }
   ],
   "source": [
    "import matplotlib.pyplot as plt\n",
    "plt.figure(figsize=(8, 6))\n",
    "plt.scatter(y_test, y_pred_mlp, color='mediumseagreen', alpha=0.7, edgecolors='k')\n",
    "plt.plot([y_test.min(), y_test.max()], [y_test.min(), y_test.max()], 'r--', linewidth=2)\n",
    "plt.xlabel(\"Actual Residual Strength\")\n",
    "plt.ylabel(\"Predicted Residual Strength (MLP)\")\n",
    "plt.title(\"MLP Predictions vs Actual\")\n",
    "plt.grid(True)\n",
    "plt.show()"
   ]
  }
 ],
 "metadata": {
  "kernelspec": {
   "display_name": "Python 3 (ipykernel)",
   "language": "python",
   "name": "python3"
  },
  "language_info": {
   "codemirror_mode": {
    "name": "ipython",
    "version": 3
   },
   "file_extension": ".py",
   "mimetype": "text/x-python",
   "name": "python",
   "nbconvert_exporter": "python",
   "pygments_lexer": "ipython3",
   "version": "3.11.7"
  }
 },
 "nbformat": 4,
 "nbformat_minor": 5
}
